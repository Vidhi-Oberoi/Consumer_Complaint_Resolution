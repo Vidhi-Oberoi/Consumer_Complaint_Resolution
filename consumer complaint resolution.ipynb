{
 "cells": [
  {
   "cell_type": "code",
   "execution_count": 1,
   "metadata": {},
   "outputs": [],
   "source": [
    "import warnings\n",
    "warnings.filterwarnings('ignore')\n",
    "import pandas as pd\n",
    "import math\n",
    "from sklearn.model_selection import train_test_split\n",
    "from sklearn.model_selection import KFold\n",
    "import numpy as np"
   ]
  },
  {
   "cell_type": "code",
   "execution_count": 18,
   "metadata": {},
   "outputs": [],
   "source": [
    "datafile_train=r'/Users/61414/Documents/ML/Project1/P1 Data/Consumer_Complaints_train.csv'\n",
    "datafile_test=r'/Users/61414/Documents/ML/Project1/P1 Data/Consumer_Complaints_test_share.csv'\n",
    "\n",
    "cd_train=pd.read_csv(datafile_train)\n",
    "cd_test=pd.read_csv(datafile_test)"
   ]
  },
  {
   "cell_type": "code",
   "execution_count": 19,
   "metadata": {},
   "outputs": [],
   "source": [
    "cd_test['Consumer disputed?']=np.nan\n",
    "cd_train['data']='train'\n",
    "cd_test['data']='test'\n",
    "cd_all=pd.concat([cd_train,cd_test],axis=0)"
   ]
  },
  {
   "cell_type": "code",
   "execution_count": 20,
   "metadata": {},
   "outputs": [
    {
     "data": {
      "text/html": [
       "<div>\n",
       "<style scoped>\n",
       "    .dataframe tbody tr th:only-of-type {\n",
       "        vertical-align: middle;\n",
       "    }\n",
       "\n",
       "    .dataframe tbody tr th {\n",
       "        vertical-align: top;\n",
       "    }\n",
       "\n",
       "    .dataframe thead th {\n",
       "        text-align: right;\n",
       "    }\n",
       "</style>\n",
       "<table border=\"1\" class=\"dataframe\">\n",
       "  <thead>\n",
       "    <tr style=\"text-align: right;\">\n",
       "      <th></th>\n",
       "      <th>Date received</th>\n",
       "      <th>Product</th>\n",
       "      <th>Sub-product</th>\n",
       "      <th>Issue</th>\n",
       "      <th>Sub-issue</th>\n",
       "      <th>Consumer complaint narrative</th>\n",
       "      <th>Company public response</th>\n",
       "      <th>Company</th>\n",
       "      <th>State</th>\n",
       "      <th>ZIP code</th>\n",
       "      <th>Tags</th>\n",
       "      <th>Consumer consent provided?</th>\n",
       "      <th>Submitted via</th>\n",
       "      <th>Date sent to company</th>\n",
       "      <th>Company response to consumer</th>\n",
       "      <th>Timely response?</th>\n",
       "      <th>Consumer disputed?</th>\n",
       "      <th>Complaint ID</th>\n",
       "      <th>data</th>\n",
       "    </tr>\n",
       "  </thead>\n",
       "  <tbody>\n",
       "    <tr>\n",
       "      <th>0</th>\n",
       "      <td>2014-05-15</td>\n",
       "      <td>Credit card</td>\n",
       "      <td>NaN</td>\n",
       "      <td>Billing statement</td>\n",
       "      <td>NaN</td>\n",
       "      <td>NaN</td>\n",
       "      <td>NaN</td>\n",
       "      <td>Wells Fargo &amp; Company</td>\n",
       "      <td>MI</td>\n",
       "      <td>48342</td>\n",
       "      <td>Older American</td>\n",
       "      <td>NaN</td>\n",
       "      <td>Web</td>\n",
       "      <td>2014-05-16</td>\n",
       "      <td>Closed with explanation</td>\n",
       "      <td>Yes</td>\n",
       "      <td>No</td>\n",
       "      <td>856103</td>\n",
       "      <td>train</td>\n",
       "    </tr>\n",
       "    <tr>\n",
       "      <th>1</th>\n",
       "      <td>2014-09-18</td>\n",
       "      <td>Bank account or service</td>\n",
       "      <td>(CD) Certificate of deposit</td>\n",
       "      <td>Making/receiving payments, sending money</td>\n",
       "      <td>NaN</td>\n",
       "      <td>NaN</td>\n",
       "      <td>NaN</td>\n",
       "      <td>Santander Bank US</td>\n",
       "      <td>PA</td>\n",
       "      <td>18042</td>\n",
       "      <td>NaN</td>\n",
       "      <td>NaN</td>\n",
       "      <td>Referral</td>\n",
       "      <td>2014-09-24</td>\n",
       "      <td>Closed</td>\n",
       "      <td>Yes</td>\n",
       "      <td>No</td>\n",
       "      <td>1034666</td>\n",
       "      <td>train</td>\n",
       "    </tr>\n",
       "    <tr>\n",
       "      <th>2</th>\n",
       "      <td>2014-03-13</td>\n",
       "      <td>Credit reporting</td>\n",
       "      <td>NaN</td>\n",
       "      <td>Incorrect information on credit report</td>\n",
       "      <td>Account status</td>\n",
       "      <td>NaN</td>\n",
       "      <td>NaN</td>\n",
       "      <td>Equifax</td>\n",
       "      <td>CA</td>\n",
       "      <td>92427</td>\n",
       "      <td>NaN</td>\n",
       "      <td>NaN</td>\n",
       "      <td>Referral</td>\n",
       "      <td>2014-04-03</td>\n",
       "      <td>Closed with non-monetary relief</td>\n",
       "      <td>Yes</td>\n",
       "      <td>No</td>\n",
       "      <td>756363</td>\n",
       "      <td>train</td>\n",
       "    </tr>\n",
       "    <tr>\n",
       "      <th>3</th>\n",
       "      <td>2015-07-17</td>\n",
       "      <td>Credit card</td>\n",
       "      <td>NaN</td>\n",
       "      <td>Billing statement</td>\n",
       "      <td>NaN</td>\n",
       "      <td>My credit card statement from US Bank, XXXX. X...</td>\n",
       "      <td>Company chooses not to provide a public response</td>\n",
       "      <td>U.S. Bancorp</td>\n",
       "      <td>GA</td>\n",
       "      <td>305XX</td>\n",
       "      <td>Older American</td>\n",
       "      <td>Consent provided</td>\n",
       "      <td>Web</td>\n",
       "      <td>2015-07-17</td>\n",
       "      <td>Closed with monetary relief</td>\n",
       "      <td>Yes</td>\n",
       "      <td>No</td>\n",
       "      <td>1474177</td>\n",
       "      <td>train</td>\n",
       "    </tr>\n",
       "    <tr>\n",
       "      <th>4</th>\n",
       "      <td>2014-11-20</td>\n",
       "      <td>Credit card</td>\n",
       "      <td>NaN</td>\n",
       "      <td>Transaction issue</td>\n",
       "      <td>NaN</td>\n",
       "      <td>NaN</td>\n",
       "      <td>NaN</td>\n",
       "      <td>Bank of America</td>\n",
       "      <td>MA</td>\n",
       "      <td>02127</td>\n",
       "      <td>NaN</td>\n",
       "      <td>NaN</td>\n",
       "      <td>Web</td>\n",
       "      <td>2014-11-28</td>\n",
       "      <td>Closed with explanation</td>\n",
       "      <td>Yes</td>\n",
       "      <td>No</td>\n",
       "      <td>1132572</td>\n",
       "      <td>train</td>\n",
       "    </tr>\n",
       "  </tbody>\n",
       "</table>\n",
       "</div>"
      ],
      "text/plain": [
       "  Date received                  Product                  Sub-product  \\\n",
       "0    2014-05-15              Credit card                          NaN   \n",
       "1    2014-09-18  Bank account or service  (CD) Certificate of deposit   \n",
       "2    2014-03-13         Credit reporting                          NaN   \n",
       "3    2015-07-17              Credit card                          NaN   \n",
       "4    2014-11-20              Credit card                          NaN   \n",
       "\n",
       "                                      Issue       Sub-issue  \\\n",
       "0                         Billing statement             NaN   \n",
       "1  Making/receiving payments, sending money             NaN   \n",
       "2    Incorrect information on credit report  Account status   \n",
       "3                         Billing statement             NaN   \n",
       "4                         Transaction issue             NaN   \n",
       "\n",
       "                        Consumer complaint narrative  \\\n",
       "0                                                NaN   \n",
       "1                                                NaN   \n",
       "2                                                NaN   \n",
       "3  My credit card statement from US Bank, XXXX. X...   \n",
       "4                                                NaN   \n",
       "\n",
       "                            Company public response                Company  \\\n",
       "0                                               NaN  Wells Fargo & Company   \n",
       "1                                               NaN      Santander Bank US   \n",
       "2                                               NaN                Equifax   \n",
       "3  Company chooses not to provide a public response           U.S. Bancorp   \n",
       "4                                               NaN        Bank of America   \n",
       "\n",
       "  State ZIP code            Tags Consumer consent provided? Submitted via  \\\n",
       "0    MI    48342  Older American                        NaN           Web   \n",
       "1    PA    18042             NaN                        NaN      Referral   \n",
       "2    CA    92427             NaN                        NaN      Referral   \n",
       "3    GA    305XX  Older American           Consent provided           Web   \n",
       "4    MA    02127             NaN                        NaN           Web   \n",
       "\n",
       "  Date sent to company     Company response to consumer Timely response?  \\\n",
       "0           2014-05-16          Closed with explanation              Yes   \n",
       "1           2014-09-24                           Closed              Yes   \n",
       "2           2014-04-03  Closed with non-monetary relief              Yes   \n",
       "3           2015-07-17      Closed with monetary relief              Yes   \n",
       "4           2014-11-28          Closed with explanation              Yes   \n",
       "\n",
       "  Consumer disputed?  Complaint ID   data  \n",
       "0                 No        856103  train  \n",
       "1                 No       1034666  train  \n",
       "2                 No        756363  train  \n",
       "3                 No       1474177  train  \n",
       "4                 No       1132572  train  "
      ]
     },
     "execution_count": 20,
     "metadata": {},
     "output_type": "execute_result"
    }
   ],
   "source": [
    "cd_all.head()"
   ]
  },
  {
   "cell_type": "code",
   "execution_count": 21,
   "metadata": {},
   "outputs": [
    {
     "data": {
      "text/plain": [
       "(598027, 19)"
      ]
     },
     "execution_count": 21,
     "metadata": {},
     "output_type": "execute_result"
    }
   ],
   "source": [
    "cd_all.shape"
   ]
  },
  {
   "cell_type": "code",
   "execution_count": 22,
   "metadata": {},
   "outputs": [],
   "source": [
    "for col in ['Date received','Date sent to company']:\n",
    "    cd_all[col]=pd.to_datetime(cd_all[col],infer_datetime_format=True)"
   ]
  },
  {
   "cell_type": "code",
   "execution_count": 23,
   "metadata": {},
   "outputs": [
    {
     "data": {
      "text/plain": [
       "Date received                   datetime64[ns]\n",
       "Product                                 object\n",
       "Sub-product                             object\n",
       "Issue                                   object\n",
       "Sub-issue                               object\n",
       "Consumer complaint narrative            object\n",
       "Company public response                 object\n",
       "Company                                 object\n",
       "State                                   object\n",
       "ZIP code                                object\n",
       "Tags                                    object\n",
       "Consumer consent provided?              object\n",
       "Submitted via                           object\n",
       "Date sent to company            datetime64[ns]\n",
       "Company response to consumer            object\n",
       "Timely response?                        object\n",
       "Consumer disputed?                      object\n",
       "Complaint ID                             int64\n",
       "data                                    object\n",
       "day_diff                                 int64\n",
       "dtype: object"
      ]
     },
     "execution_count": 23,
     "metadata": {},
     "output_type": "execute_result"
    }
   ],
   "source": [
    "cd_all['day_diff']=pd.to_numeric(cd_all['Date sent to company']-cd_all['Date received'])\n",
    "cd_all.dtypes"
   ]
  },
  {
   "cell_type": "code",
   "execution_count": 24,
   "metadata": {},
   "outputs": [],
   "source": [
    "for col in ['Date received','Date sent to company']:\n",
    "    cd_all.drop([col],1,inplace=True)"
   ]
  },
  {
   "cell_type": "code",
   "execution_count": 25,
   "metadata": {},
   "outputs": [
    {
     "name": "stdout",
     "output_type": "stream",
     "text": [
      "Product : 12\n",
      "Sub-product : 47\n",
      "Issue : 95\n",
      "Sub-issue : 68\n",
      "Consumer complaint narrative : 92118\n",
      "Company public response : 10\n",
      "Company : 3437\n",
      "State : 62\n",
      "ZIP code : 27342\n",
      "Tags : 3\n",
      "Consumer consent provided? : 4\n",
      "Submitted via : 6\n",
      "Company response to consumer : 7\n",
      "Timely response? : 2\n",
      "Consumer disputed? : 2\n",
      "data : 2\n"
     ]
    }
   ],
   "source": [
    "for col in cd_all.select_dtypes(['object']).columns:\n",
    "    print(col,':',cd_all[col].nunique())"
   ]
  },
  {
   "cell_type": "code",
   "execution_count": 26,
   "metadata": {},
   "outputs": [
    {
     "data": {
      "text/plain": [
       "Product                              0\n",
       "Sub-product                     173225\n",
       "Issue                                0\n",
       "Sub-issue                       365685\n",
       "Consumer complaint narrative    504376\n",
       "Company public response         484859\n",
       "Company                              0\n",
       "State                             4764\n",
       "ZIP code                          4774\n",
       "Tags                            513950\n",
       "Consumer consent provided?      428676\n",
       "Submitted via                        1\n",
       "Company response to consumer         0\n",
       "Timely response?                     0\n",
       "Consumer disputed?              119606\n",
       "Complaint ID                         0\n",
       "data                                 0\n",
       "day_diff                             0\n",
       "dtype: int64"
      ]
     },
     "execution_count": 26,
     "metadata": {},
     "output_type": "execute_result"
    }
   ],
   "source": [
    "cd_all.isnull().sum()"
   ]
  },
  {
   "cell_type": "code",
   "execution_count": 27,
   "metadata": {},
   "outputs": [],
   "source": [
    "for col in ['Sub-product','Sub-issue',\n",
    "            'Company public response','Tags','Consumer consent provided?']:\n",
    "    varname=col.replace('-','_').replace('?','').replace(\" \",'_')+'_isNan'\n",
    "    cd_all[varname]=np.where(pd.isnull(cd_all[col]),1,0)\n",
    "    cd_all.drop([col],1,inplace=True)"
   ]
  },
  {
   "cell_type": "code",
   "execution_count": 28,
   "metadata": {},
   "outputs": [
    {
     "data": {
      "text/plain": [
       "(598027, 18)"
      ]
     },
     "execution_count": 28,
     "metadata": {},
     "output_type": "execute_result"
    }
   ],
   "source": [
    "cd_all.shape"
   ]
  },
  {
   "cell_type": "code",
   "execution_count": 29,
   "metadata": {},
   "outputs": [
    {
     "name": "stdout",
     "output_type": "stream",
     "text": [
      "Product : 12\n",
      "Issue : 95\n",
      "Consumer complaint narrative : 92118\n",
      "Company : 3437\n",
      "State : 62\n",
      "ZIP code : 27342\n",
      "Submitted via : 6\n",
      "Company response to consumer : 7\n",
      "Timely response? : 2\n",
      "Consumer disputed? : 2\n",
      "data : 2\n"
     ]
    }
   ],
   "source": [
    "for col in cd_all.select_dtypes(['object']).columns:\n",
    "    print(col,':',cd_all[col].nunique())"
   ]
  },
  {
   "cell_type": "code",
   "execution_count": 30,
   "metadata": {},
   "outputs": [
    {
     "data": {
      "text/plain": [
       "(598027, 17)"
      ]
     },
     "execution_count": 30,
     "metadata": {},
     "output_type": "execute_result"
    }
   ],
   "source": [
    "for col in ['ZIP code' ]:\n",
    "    cd_all.drop([col],1,inplace=True)\n",
    "\n",
    "cd_all.shape"
   ]
  },
  {
   "cell_type": "code",
   "execution_count": 31,
   "metadata": {},
   "outputs": [
    {
     "data": {
      "text/plain": [
       "Bank of America                           57887\n",
       "Wells Fargo & Company                     44337\n",
       "JPMorgan Chase & Co.                      36040\n",
       "Equifax                                   36013\n",
       "Experian                                  33622\n",
       "                                          ...  \n",
       "South Exchange Inc                            1\n",
       "Dennis P Lee P.C., L.L.O.                     1\n",
       "TFLC Trust                                    1\n",
       "Quality Title, Inc.                           1\n",
       "Law Offices of Goldsmith & Hull A.P.C.        1\n",
       "Name: Company, Length: 3437, dtype: int64"
      ]
     },
     "execution_count": 31,
     "metadata": {},
     "output_type": "execute_result"
    }
   ],
   "source": [
    "cd_all['Company'].value_counts()"
   ]
  },
  {
   "cell_type": "code",
   "execution_count": 32,
   "metadata": {},
   "outputs": [
    {
     "name": "stdout",
     "output_type": "stream",
     "text": [
      "value of  Index(['Bank of America', 'Wells Fargo & Company', 'JPMorgan Chase & Co.',\n",
      "       'Equifax', 'Experian', 'TransUnion Intermediate Holdings, Inc.',\n",
      "       'Citibank', 'Ocwen', 'Capital One', 'Nationstar Mortgage',\n",
      "       'Synchrony Financial', 'U.S. Bancorp', 'Ditech Financial LLC',\n",
      "       'Navient Solutions, Inc.', 'PNC Bank N.A.', 'Encore Capital Group',\n",
      "       'Amex', 'HSBC North America Holdings Inc.', 'SunTrust Banks, Inc.',\n",
      "       'Discover', 'TD Bank US Holding Company',\n",
      "       'Select Portfolio Servicing, Inc',\n",
      "       'Portfolio Recovery Associates, Inc.', 'Citizens Financial Group, Inc.',\n",
      "       'Fifth Third Financial Corporation', 'Seterus, Inc.', 'Barclays PLC',\n",
      "       'ERC', 'BB&T Financial', 'M&T Bank Corporation',\n",
      "       'PayPal Holdings, Inc.', 'Ally Financial Inc.', 'USAA Savings',\n",
      "       'Specialized Loan Servicing LLC', 'Regions Financial Corporation',\n",
      "       'AES/PHEAA', 'Santander Consumer USA Holdings Inc', 'Santander Bank US',\n",
      "       'Resurgent Capital Services L.P.', 'Flagstar Bank',\n",
      "       'Expert Global Solutions, Inc.', 'Caliber Home Loans, Inc',\n",
      "       'Transworld Systems Inc.', 'Navy FCU', 'PHH Mortgage',\n",
      "       'CIT Bank National Association', 'KeyBank NA',\n",
      "       'Convergent Resources, Inc.', 'Bayview Loan Servicing, LLC',\n",
      "       'Carrington Mortgage Holdings, LLC.', 'The Western Union Company',\n",
      "       'Diversified Consultants, Inc.', 'Allied Interstate LLC', 'Afni, Inc.',\n",
      "       'MoneyGram', 'TCF National Bank', 'BBVA Compass',\n",
      "       'The Huntington National Bank', 'Quicken Loans', 'I.C. System, Inc.'],\n",
      "      dtype='object')\n",
      "Index(['Bank of America', 'Wells Fargo & Company', 'JPMorgan Chase & Co.',\n",
      "       'Equifax', 'Experian', 'TransUnion Intermediate Holdings, Inc.',\n",
      "       'Citibank', 'Ocwen', 'Capital One', 'Nationstar Mortgage',\n",
      "       'Synchrony Financial', 'U.S. Bancorp', 'Ditech Financial LLC',\n",
      "       'Navient Solutions, Inc.', 'PNC Bank N.A.', 'Encore Capital Group',\n",
      "       'Amex', 'HSBC North America Holdings Inc.', 'SunTrust Banks, Inc.',\n",
      "       'Discover', 'TD Bank US Holding Company',\n",
      "       'Select Portfolio Servicing, Inc',\n",
      "       'Portfolio Recovery Associates, Inc.', 'Citizens Financial Group, Inc.',\n",
      "       'Fifth Third Financial Corporation', 'Seterus, Inc.', 'Barclays PLC',\n",
      "       'ERC', 'BB&T Financial', 'M&T Bank Corporation',\n",
      "       'PayPal Holdings, Inc.', 'Ally Financial Inc.', 'USAA Savings',\n",
      "       'Specialized Loan Servicing LLC', 'Regions Financial Corporation',\n",
      "       'AES/PHEAA', 'Santander Consumer USA Holdings Inc', 'Santander Bank US',\n",
      "       'Resurgent Capital Services L.P.', 'Flagstar Bank',\n",
      "       'Expert Global Solutions, Inc.', 'Caliber Home Loans, Inc',\n",
      "       'Transworld Systems Inc.', 'Navy FCU', 'PHH Mortgage',\n",
      "       'CIT Bank National Association', 'KeyBank NA',\n",
      "       'Convergent Resources, Inc.', 'Bayview Loan Servicing, LLC',\n",
      "       'Carrington Mortgage Holdings, LLC.', 'The Western Union Company',\n",
      "       'Diversified Consultants, Inc.', 'Allied Interstate LLC', 'Afni, Inc.',\n",
      "       'MoneyGram', 'TCF National Bank', 'BBVA Compass',\n",
      "       'The Huntington National Bank', 'Quicken Loans', 'I.C. System, Inc.'],\n",
      "      dtype='object') Company Bank of America                           57887\n",
      "Wells Fargo & Company                     44337\n",
      "JPMorgan Chase & Co.                      36040\n",
      "Equifax                                   36013\n",
      "Experian                                  33622\n",
      "                                          ...  \n",
      "South Exchange Inc                            1\n",
      "Dennis P Lee P.C., L.L.O.                     1\n",
      "TFLC Trust                                    1\n",
      "Quality Title, Inc.                           1\n",
      "Law Offices of Goldsmith & Hull A.P.C.        1\n",
      "Name: Company, Length: 3437, dtype: int64 first loop frequency k\n",
      "Company\n"
     ]
    },
    {
     "data": {
      "text/plain": [
       "(598027, 76)"
      ]
     },
     "execution_count": 32,
     "metadata": {},
     "output_type": "execute_result"
    }
   ],
   "source": [
    "for col in ['Company']:\n",
    "    #print(col,\"first loop\")\n",
    "    freqs=cd_all[col].value_counts()\n",
    "    #print(col,freqs,\"first loop frequency\")\n",
    "    k=freqs.index[freqs>1000][:-1]\n",
    "    print(\"value of \", k)\n",
    "    print(k, col,freqs,\"first loop frequency k\")\n",
    "    for cat in k:\n",
    "        name=col+'_'+cat\n",
    "        cd_all[name]=(cd_all[col]==cat).astype(int)\n",
    "        #print(name)\n",
    "    del cd_all[col]\n",
    "    print(col)\n",
    "\n",
    "cd_all.shape"
   ]
  },
  {
   "cell_type": "code",
   "execution_count": 33,
   "metadata": {},
   "outputs": [],
   "source": [
    "cd_all['Consumer disputed?']=np.where(cd_all['Consumer disputed?']==\"Yes\",1,0)"
   ]
  },
  {
   "cell_type": "code",
   "execution_count": 34,
   "metadata": {},
   "outputs": [
    {
     "data": {
      "text/plain": [
       "(598027, 85)"
      ]
     },
     "execution_count": 34,
     "metadata": {},
     "output_type": "execute_result"
    }
   ],
   "source": [
    "k=cd_all['Issue'].value_counts()\n",
    "for val in k.axes[0][0:10]:\n",
    "    varname='Issue_'+val.replace(',','_').replace(' ','_')\n",
    "    cd_all[varname]=np.where(cd_all['Issue']==val,1,0)\n",
    "    \n",
    "del cd_all['Issue']\n",
    "cd_all.shape"
   ]
  },
  {
   "cell_type": "code",
   "execution_count": 35,
   "metadata": {},
   "outputs": [
    {
     "name": "stdout",
     "output_type": "stream",
     "text": [
      "Product : 12\n",
      "Consumer complaint narrative : 92118\n",
      "State : 62\n",
      "Submitted via : 6\n",
      "Company response to consumer : 7\n",
      "Timely response? : 2\n",
      "data : 2\n"
     ]
    },
    {
     "data": {
      "text/plain": [
       "(598027, 85)"
      ]
     },
     "execution_count": 35,
     "metadata": {},
     "output_type": "execute_result"
    }
   ],
   "source": [
    "for col in cd_all.select_dtypes(['object']).columns:\n",
    "    print(col,':',cd_all[col].nunique())\n",
    "    \n",
    "cd_all.shape"
   ]
  },
  {
   "cell_type": "code",
   "execution_count": 36,
   "metadata": {},
   "outputs": [
    {
     "data": {
      "text/plain": [
       "(598027, 99)"
      ]
     },
     "execution_count": 36,
     "metadata": {},
     "output_type": "execute_result"
    }
   ],
   "source": [
    "k=cd_all['State'].value_counts()\n",
    "for val in k.axes[0][0:15]:\n",
    "    varname='State_'+val.replace(',','_').replace(' ','_')\n",
    "    cd_all[varname]=np.where(cd_all['State']==val,1,0)\n",
    "    \n",
    "del cd_all['State']\n",
    "cd_all.shape"
   ]
  },
  {
   "cell_type": "code",
   "execution_count": 37,
   "metadata": {},
   "outputs": [],
   "source": [
    "for col in ['Product','Submitted via','Company response to consumer','Timely response?']:\n",
    "    \n",
    "    temp=pd.get_dummies(cd_all[col],prefix=col,drop_first=True)\n",
    "    cd_all=pd.concat([temp,cd_all],1)\n",
    "    cd_all.drop([col],1,inplace=True)"
   ]
  },
  {
   "cell_type": "code",
   "execution_count": 38,
   "metadata": {},
   "outputs": [
    {
     "data": {
      "text/plain": [
       "(598027, 118)"
      ]
     },
     "execution_count": 38,
     "metadata": {},
     "output_type": "execute_result"
    }
   ],
   "source": [
    "cd_all.shape"
   ]
  },
  {
   "cell_type": "code",
   "execution_count": 39,
   "metadata": {},
   "outputs": [],
   "source": [
    "from sklearn.feature_extraction.text import TfidfVectorizer "
   ]
  },
  {
   "cell_type": "code",
   "execution_count": 40,
   "metadata": {},
   "outputs": [],
   "source": [
    "from nltk.stem.wordnet import WordNetLemmatizer\n",
    "from nltk.corpus import stopwords\n",
    "from string import punctuation\n",
    "from nltk.tokenize import word_tokenize\n",
    "lemma = WordNetLemmatizer()\n",
    "my_stop=set(stopwords.words('english')+list(punctuation))"
   ]
  },
  {
   "cell_type": "code",
   "execution_count": 41,
   "metadata": {},
   "outputs": [],
   "source": [
    "tfidf= TfidfVectorizer(analyzer='word',min_df=0.01,max_df=0.6,\n",
    "                       stop_words=my_stop, max_features=200)"
   ]
  },
  {
   "cell_type": "code",
   "execution_count": 42,
   "metadata": {},
   "outputs": [],
   "source": [
    "cd_all['Consumer complaint narrative'].fillna('missing',inplace=True)"
   ]
  },
  {
   "cell_type": "code",
   "execution_count": 43,
   "metadata": {},
   "outputs": [
    {
     "data": {
      "text/plain": [
       "TfidfVectorizer(analyzer='word', binary=False, decode_error='strict',\n",
       "                dtype=<class 'numpy.float64'>, encoding='utf-8',\n",
       "                input='content', lowercase=True, max_df=0.6, max_features=200,\n",
       "                min_df=0.01, ngram_range=(1, 1), norm='l2', preprocessor=None,\n",
       "                smooth_idf=True,\n",
       "                stop_words={'!', '\"', '#', '$', '%', '&', \"'\", '(', ')', '*',\n",
       "                            '+', ',', '-', '.', '/', ':', ';', '<', '=', '>',\n",
       "                            '?', '@', '[', '\\\\', ']', '^', '_', '`', 'a',\n",
       "                            'about', ...},\n",
       "                strip_accents=None, sublinear_tf=False,\n",
       "                token_pattern='(?u)\\\\b\\\\w\\\\w+\\\\b', tokenizer=None, use_idf=True,\n",
       "                vocabulary=None)"
      ]
     },
     "execution_count": 43,
     "metadata": {},
     "output_type": "execute_result"
    }
   ],
   "source": [
    "tfidf.fit(cd_all['Consumer complaint narrative'])"
   ]
  },
  {
   "cell_type": "code",
   "execution_count": 44,
   "metadata": {},
   "outputs": [],
   "source": [
    "tfidf_data=pd.DataFrame(data=tfidf.transform(cd_all['Consumer complaint narrative']).toarray(),\n",
    "\n",
    "                       columns=tfidf.get_feature_names())"
   ]
  },
  {
   "cell_type": "code",
   "execution_count": 45,
   "metadata": {},
   "outputs": [],
   "source": [
    "cd_all.reset_index(drop=True, inplace=True)\n",
    "tfidf_data.reset_index(drop=True, inplace=True)"
   ]
  },
  {
   "cell_type": "code",
   "execution_count": 46,
   "metadata": {},
   "outputs": [],
   "source": [
    "cd_combined = pd.concat([cd_all, tfidf_data], axis=1)"
   ]
  },
  {
   "cell_type": "code",
   "execution_count": 47,
   "metadata": {},
   "outputs": [
    {
     "data": {
      "text/plain": [
       "(598027, 304)"
      ]
     },
     "execution_count": 47,
     "metadata": {},
     "output_type": "execute_result"
    }
   ],
   "source": [
    "cd_combined.shape"
   ]
  },
  {
   "cell_type": "code",
   "execution_count": 48,
   "metadata": {},
   "outputs": [],
   "source": [
    "del cd_combined['Consumer complaint narrative']"
   ]
  },
  {
   "cell_type": "code",
   "execution_count": 49,
   "metadata": {},
   "outputs": [
    {
     "data": {
      "text/plain": [
       "(598027, 303)"
      ]
     },
     "execution_count": 49,
     "metadata": {},
     "output_type": "execute_result"
    }
   ],
   "source": [
    "cd_combined.shape"
   ]
  },
  {
   "cell_type": "code",
   "execution_count": 50,
   "metadata": {},
   "outputs": [],
   "source": [
    "cd_train=cd_combined[cd_combined['data']=='train']\n",
    "del cd_train['data']\n",
    "cd_test=cd_combined[cd_combined['data']=='test']\n",
    "cd_test.drop(['Consumer disputed?','data'],axis=1,inplace=True)"
   ]
  },
  {
   "cell_type": "code",
   "execution_count": 51,
   "metadata": {},
   "outputs": [],
   "source": [
    "del cd_combined"
   ]
  },
  {
   "cell_type": "code",
   "execution_count": 52,
   "metadata": {},
   "outputs": [
    {
     "data": {
      "text/plain": [
       "(478421, 302)"
      ]
     },
     "execution_count": 52,
     "metadata": {},
     "output_type": "execute_result"
    }
   ],
   "source": [
    "cd_train.shape"
   ]
  },
  {
   "cell_type": "code",
   "execution_count": 53,
   "metadata": {},
   "outputs": [
    {
     "data": {
      "text/plain": [
       "(119606, 301)"
      ]
     },
     "execution_count": 53,
     "metadata": {},
     "output_type": "execute_result"
    }
   ],
   "source": [
    "cd_test.shape"
   ]
  },
  {
   "cell_type": "code",
   "execution_count": 54,
   "metadata": {},
   "outputs": [],
   "source": [
    "x=cd_train.drop(['Consumer disputed?','Complaint ID'],1)\n",
    "y=cd_train['Consumer disputed?']"
   ]
  },
  {
   "cell_type": "code",
   "execution_count": 55,
   "metadata": {},
   "outputs": [],
   "source": [
    "from sklearn.linear_model import LogisticRegression"
   ]
  },
  {
   "cell_type": "code",
   "execution_count": 56,
   "metadata": {},
   "outputs": [],
   "source": [
    "clf=LogisticRegression()"
   ]
  },
  {
   "cell_type": "code",
   "execution_count": 57,
   "metadata": {},
   "outputs": [
    {
     "data": {
      "text/plain": [
       "LogisticRegression(C=1.0, class_weight=None, dual=False, fit_intercept=True,\n",
       "                   intercept_scaling=1, l1_ratio=None, max_iter=100,\n",
       "                   multi_class='auto', n_jobs=None, penalty='l2',\n",
       "                   random_state=None, solver='lbfgs', tol=0.0001, verbose=0,\n",
       "                   warm_start=False)"
      ]
     },
     "execution_count": 57,
     "metadata": {},
     "output_type": "execute_result"
    }
   ],
   "source": []
  },
  {
   "cell_type": "code",
   "execution_count": 58,
   "metadata": {},
   "outputs": [],
   "source": []
  },
  {
   "cell_type": "code",
   "execution_count": 41,
   "metadata": {},
   "outputs": [],
   "source": []
  },
  {
   "cell_type": "code",
   "execution_count": 49,
   "metadata": {},
   "outputs": [
    {
     "data": {
      "text/plain": [
       "(119606, 2)"
      ]
     },
     "execution_count": 49,
     "metadata": {},
     "output_type": "execute_result"
    }
   ],
   "source": [
    "submission.shape"
   ]
  },
  {
   "cell_type": "code",
   "execution_count": null,
   "metadata": {},
   "outputs": [],
   "source": [
    "#testing the performance of model on 80:20 trai test split"
   ]
  },
  {
   "cell_type": "code",
   "execution_count": 59,
   "metadata": {},
   "outputs": [],
   "source": [
    "cd_train1,cd_train2=train_test_split(cd_train,test_size=0.2,random_state=2)"
   ]
  },
  {
   "cell_type": "code",
   "execution_count": 60,
   "metadata": {},
   "outputs": [],
   "source": [
    "x_train1=cd_train1.drop(['Consumer disputed?','Complaint ID'],1)\n",
    "y_train1=cd_train1['Consumer disputed?']"
   ]
  },
  {
   "cell_type": "code",
   "execution_count": 61,
   "metadata": {},
   "outputs": [],
   "source": [
    "x_train2=cd_train2.drop(['Consumer disputed?','Complaint ID'],1)\n",
    "y_train2=cd_train2['Consumer disputed?']"
   ]
  },
  {
   "cell_type": "code",
   "execution_count": 67,
   "metadata": {},
   "outputs": [
    {
     "data": {
      "text/plain": [
       "LogisticRegression(C=1.0, class_weight=None, dual=False, fit_intercept=True,\n",
       "                   intercept_scaling=1, l1_ratio=None, max_iter=100,\n",
       "                   multi_class='auto', n_jobs=None, penalty='l2',\n",
       "                   random_state=None, solver='lbfgs', tol=0.0001, verbose=0,\n",
       "                   warm_start=False)"
      ]
     },
     "execution_count": 67,
     "metadata": {},
     "output_type": "execute_result"
    }
   ],
   "source": [
    "clf.fit(x_train1,y_train1)"
   ]
  },
  {
   "cell_type": "code",
   "execution_count": null,
   "metadata": {},
   "outputs": [],
   "source": []
  },
  {
   "cell_type": "code",
   "execution_count": 68,
   "metadata": {},
   "outputs": [],
   "source": [
    "test_score_logr=clf.predict_proba(x_train2)[:,1]"
   ]
  },
  {
   "cell_type": "code",
   "execution_count": 69,
   "metadata": {},
   "outputs": [
    {
     "data": {
      "text/plain": [
       "(95685,)"
      ]
     },
     "execution_count": 69,
     "metadata": {},
     "output_type": "execute_result"
    }
   ],
   "source": [
    "test_score_logr.shape"
   ]
  },
  {
   "cell_type": "code",
   "execution_count": 64,
   "metadata": {},
   "outputs": [],
   "source": [
    "from sklearn.metrics import roc_auc_score"
   ]
  },
  {
   "cell_type": "code",
   "execution_count": 70,
   "metadata": {},
   "outputs": [
    {
     "data": {
      "text/plain": [
       "0.5"
      ]
     },
     "execution_count": 70,
     "metadata": {},
     "output_type": "execute_result"
    }
   ],
   "source": [
    "# score model performance on the train2 data\n",
    "roc_auc_score(y_train2,test_score_logr)"
   ]
  },
  {
   "cell_type": "code",
   "execution_count": null,
   "metadata": {},
   "outputs": [],
   "source": [
    "#cutoff with logr"
   ]
  },
  {
   "cell_type": "code",
   "execution_count": 66,
   "metadata": {},
   "outputs": [
    {
     "data": {
      "text/plain": [
       "array([0.        , 0.01010101, 0.02020202, 0.03030303, 0.04040404,\n",
       "       0.05050505, 0.06060606, 0.07070707, 0.08080808, 0.09090909,\n",
       "       0.1010101 , 0.11111111, 0.12121212, 0.13131313, 0.14141414,\n",
       "       0.15151515, 0.16161616, 0.17171717, 0.18181818, 0.19191919,\n",
       "       0.2020202 , 0.21212121, 0.22222222, 0.23232323, 0.24242424,\n",
       "       0.25252525, 0.26262626, 0.27272727, 0.28282828, 0.29292929,\n",
       "       0.3030303 , 0.31313131, 0.32323232, 0.33333333, 0.34343434,\n",
       "       0.35353535, 0.36363636, 0.37373737, 0.38383838, 0.39393939,\n",
       "       0.4040404 , 0.41414141, 0.42424242, 0.43434343, 0.44444444,\n",
       "       0.45454545, 0.46464646, 0.47474747, 0.48484848, 0.49494949,\n",
       "       0.50505051, 0.51515152, 0.52525253, 0.53535354, 0.54545455,\n",
       "       0.55555556, 0.56565657, 0.57575758, 0.58585859, 0.5959596 ,\n",
       "       0.60606061, 0.61616162, 0.62626263, 0.63636364, 0.64646465,\n",
       "       0.65656566, 0.66666667, 0.67676768, 0.68686869, 0.6969697 ,\n",
       "       0.70707071, 0.71717172, 0.72727273, 0.73737374, 0.74747475,\n",
       "       0.75757576, 0.76767677, 0.77777778, 0.78787879, 0.7979798 ,\n",
       "       0.80808081, 0.81818182, 0.82828283, 0.83838384, 0.84848485,\n",
       "       0.85858586, 0.86868687, 0.87878788, 0.88888889, 0.8989899 ,\n",
       "       0.90909091, 0.91919192, 0.92929293, 0.93939394, 0.94949495,\n",
       "       0.95959596, 0.96969697, 0.97979798, 0.98989899, 1.        ])"
      ]
     },
     "execution_count": 66,
     "metadata": {},
     "output_type": "execute_result"
    }
   ],
   "source": [
    "cutoffs=np.linspace(0,1,100)\n",
    "cutoffs"
   ]
  },
  {
   "cell_type": "code",
   "execution_count": null,
   "metadata": {},
   "outputs": [],
   "source": [
    "real = y_train1.values"
   ]
  },
  {
   "cell_type": "code",
   "execution_count": null,
   "metadata": {},
   "outputs": [],
   "source": [
    "KS_cut=[]\n",
    "for cutoff in cutoffs:\n",
    "#     predicted=pd.Series([0]*len(y_train))\n",
    "#     predicted[prob_score>cutoff]=1\n",
    "    predicted = (prob_score>cutoff).astype(int)\n",
    "    \n",
    "    TP = ((real ==1) & (predicted ==1)).sum()\n",
    "    TN = ((real ==0) & (predicted ==0)).sum()\n",
    "    FN = ((real ==1) & (predicted ==0)).sum()\n",
    "    FP = ((real ==0) & (predicted ==1)).sum()\n",
    "#     df=pd.DataFrame(list(zip(y_train,predicted)),columns=[\"real\",\"predicted\"])\n",
    "#     TP=len(df[(df[\"real\"]==1) &(df[\"predicted\"]==1) ])\n",
    "#     FP=len(df[(df[\"real\"]==0) &(df[\"predicted\"]==1) ])\n",
    "#     TN=len(df[(df[\"real\"]==0) &(df[\"predicted\"]==0) ])\n",
    "#     FN=len(df[(df[\"real\"]==1) &(df[\"predicted\"]==0) ])\n",
    "\n",
    "    P=TP+FN\n",
    "    N=TN+FP\n",
    "    KS=(TP/P)-(FP/N)\n",
    "    KS_cut.append(KS)"
   ]
  },
  {
   "cell_type": "code",
   "execution_count": null,
   "metadata": {},
   "outputs": [],
   "source": [
    "cutoff_data=pd.DataFrame(list(zip(cutoffs,KS_cut)),columns=[\"cutoff\",\"KS\"])\n",
    "\n",
    "# cutoff_data"
   ]
  },
  {
   "cell_type": "code",
   "execution_count": null,
   "metadata": {},
   "outputs": [],
   "source": [
    "KS_cutoff=cutoff_data[cutoff_data[\"KS\"]==cutoff_data[\"KS\"].max()][\"cutoff\"]\n",
    "KS_cutoff"
   ]
  },
  {
   "cell_type": "code",
   "execution_count": null,
   "metadata": {},
   "outputs": [],
   "source": [
    "# Performance on test data\n",
    "prob_score_test=pd.Series(list(zip(*logr.predict_proba(x_train2)))[1])\n",
    "\n",
    "predicted_test=pd.Series([0]*len(y_train2))\n",
    "predicted_test[prob_score_test>float(KS_cutoff)]=1\n",
    "\n",
    "df_test=pd.DataFrame(list(zip(y_train2,predicted_test)),columns=[\"real\",\"predicted\"])\n",
    "\n",
    "k=pd.crosstab(df_test['real'],df_test[\"predicted\"])\n",
    "print('confusion matrix :\\n \\n ',k)\n",
    "TN=k.iloc[0,0]\n",
    "TP=k.iloc[1,1]\n",
    "FP=k.iloc[0,1]\n",
    "FN=k.iloc[1,0]\n",
    "P=TP+FN\n",
    "N=TN+FP"
   ]
  },
  {
   "cell_type": "code",
   "execution_count": null,
   "metadata": {},
   "outputs": [],
   "source": []
  },
  {
   "cell_type": "code",
   "execution_count": null,
   "metadata": {},
   "outputs": [],
   "source": [
    "========================================================================================="
   ]
  },
  {
   "cell_type": "code",
   "execution_count": null,
   "metadata": {},
   "outputs": [],
   "source": [
    "###grid search"
   ]
  },
  {
   "cell_type": "code",
   "execution_count": 71,
   "metadata": {},
   "outputs": [],
   "source": [
    "from sklearn.model_selection import GridSearchCV"
   ]
  },
  {
   "cell_type": "code",
   "execution_count": 72,
   "metadata": {},
   "outputs": [],
   "source": [
    "params={'class_weight':['balanced',None],\n",
    "        'penalty':['l1','l2'],\n",
    "        'C':np.linspace(0.01,1000,10)}"
   ]
  },
  {
   "cell_type": "code",
   "execution_count": 73,
   "metadata": {},
   "outputs": [],
   "source": [
    "grid_search=GridSearchCV(clf,param_grid=params,cv=5,scoring=\"roc_auc\")"
   ]
  },
  {
   "cell_type": "code",
   "execution_count": 106,
   "metadata": {},
   "outputs": [
    {
     "data": {
      "text/plain": [
       "GridSearchCV(cv=5, error_score=nan,\n",
       "             estimator=LogisticRegression(C=1.0, class_weight=None, dual=False,\n",
       "                                          fit_intercept=True,\n",
       "                                          intercept_scaling=1, l1_ratio=None,\n",
       "                                          max_iter=100, multi_class='auto',\n",
       "                                          n_jobs=None, penalty='l2',\n",
       "                                          random_state=None, solver='lbfgs',\n",
       "                                          tol=0.0001, verbose=0,\n",
       "                                          warm_start=False),\n",
       "             iid='deprecated', n_jobs=None,\n",
       "             param_grid={'C': array([1.0000e-02, 1.1112e+02, 2.2223e+02, 3.3334e+02, 4.4445e+02,\n",
       "       5.5556e+02, 6.6667e+02, 7.7778e+02, 8.8889e+02, 1.0000e+03]),\n",
       "                         'class_weight': ['balanced', None],\n",
       "                         'penalty': ['l1', 'l2']},\n",
       "             pre_dispatch='2*n_jobs', refit=True, return_train_score=False,\n",
       "             scoring='roc_auc', verbose=0)"
      ]
     },
     "execution_count": 106,
     "metadata": {},
     "output_type": "execute_result"
    }
   ],
   "source": [
    "grid_search.fit(x,y)"
   ]
  },
  {
   "cell_type": "code",
   "execution_count": 107,
   "metadata": {},
   "outputs": [
    {
     "data": {
      "text/plain": [
       "LogisticRegression(C=0.01, class_weight='balanced', dual=False,\n",
       "                   fit_intercept=True, intercept_scaling=1, l1_ratio=None,\n",
       "                   max_iter=100, multi_class='auto', n_jobs=None, penalty='l2',\n",
       "                   random_state=None, solver='lbfgs', tol=0.0001, verbose=0,\n",
       "                   warm_start=False)"
      ]
     },
     "execution_count": 107,
     "metadata": {},
     "output_type": "execute_result"
    }
   ],
   "source": [
    "grid_search.best_estimator_"
   ]
  },
  {
   "cell_type": "code",
   "execution_count": 108,
   "metadata": {},
   "outputs": [],
   "source": [
    "logr_gs=grid_search.best_estimator_"
   ]
  },
  {
   "cell_type": "code",
   "execution_count": 109,
   "metadata": {},
   "outputs": [],
   "source": [
    "def report(results, n_top=3):\n",
    "    for i in range(1, n_top + 1):\n",
    "        candidates = np.flatnonzero(results['rank_test_score'] == i)\n",
    "        for candidate in candidates:\n",
    "            print(\"Model with rank: {0}\".format(i))\n",
    "            print(\"Mean validation score: {0:.10f} (std: {1:.5f})\".format(\n",
    "                  results['mean_test_score'][candidate],\n",
    "                  results['std_test_score'][candidate]))\n",
    "            print(\"Parameters: {0}\".format(results['params'][candidate]))\n",
    "            print(\"\")"
   ]
  },
  {
   "cell_type": "code",
   "execution_count": 110,
   "metadata": {},
   "outputs": [
    {
     "name": "stdout",
     "output_type": "stream",
     "text": [
      "Model with rank: 1\n",
      "Mean validation score: 0.5447201040 (std: 0.00175)\n",
      "Parameters: {'C': 0.01, 'class_weight': 'balanced', 'penalty': 'l2'}\n",
      "\n",
      "Model with rank: 1\n",
      "Mean validation score: 0.5447201040 (std: 0.00175)\n",
      "Parameters: {'C': 111.12, 'class_weight': 'balanced', 'penalty': 'l2'}\n",
      "\n",
      "Model with rank: 1\n",
      "Mean validation score: 0.5447201040 (std: 0.00175)\n",
      "Parameters: {'C': 222.23, 'class_weight': 'balanced', 'penalty': 'l2'}\n",
      "\n",
      "Model with rank: 1\n",
      "Mean validation score: 0.5447201040 (std: 0.00175)\n",
      "Parameters: {'C': 333.34, 'class_weight': 'balanced', 'penalty': 'l2'}\n",
      "\n",
      "Model with rank: 1\n",
      "Mean validation score: 0.5447201040 (std: 0.00175)\n",
      "Parameters: {'C': 444.45, 'class_weight': 'balanced', 'penalty': 'l2'}\n",
      "\n",
      "Model with rank: 1\n",
      "Mean validation score: 0.5447201040 (std: 0.00175)\n",
      "Parameters: {'C': 555.56, 'class_weight': 'balanced', 'penalty': 'l2'}\n",
      "\n",
      "Model with rank: 1\n",
      "Mean validation score: 0.5447201040 (std: 0.00175)\n",
      "Parameters: {'C': 666.67, 'class_weight': 'balanced', 'penalty': 'l2'}\n",
      "\n",
      "Model with rank: 1\n",
      "Mean validation score: 0.5447201040 (std: 0.00175)\n",
      "Parameters: {'C': 777.78, 'class_weight': 'balanced', 'penalty': 'l2'}\n",
      "\n",
      "Model with rank: 1\n",
      "Mean validation score: 0.5447201040 (std: 0.00175)\n",
      "Parameters: {'C': 888.89, 'class_weight': 'balanced', 'penalty': 'l2'}\n",
      "\n",
      "Model with rank: 1\n",
      "Mean validation score: 0.5447201040 (std: 0.00175)\n",
      "Parameters: {'C': 1000.0, 'class_weight': 'balanced', 'penalty': 'l2'}\n",
      "\n"
     ]
    }
   ],
   "source": [
    "report(grid_search.cv_results_,5)"
   ]
  },
  {
   "cell_type": "code",
   "execution_count": 111,
   "metadata": {},
   "outputs": [],
   "source": [
    "test_score_gs=logr_gs.predict_proba(x_train2)[:,1]"
   ]
  },
  {
   "cell_type": "code",
   "execution_count": 112,
   "metadata": {},
   "outputs": [
    {
     "data": {
      "text/plain": [
       "0.5287059355830243"
      ]
     },
     "execution_count": 112,
     "metadata": {},
     "output_type": "execute_result"
    }
   ],
   "source": [
    "roc_auc_score(y_train2,test_score_gs)"
   ]
  },
  {
   "cell_type": "code",
   "execution_count": null,
   "metadata": {},
   "outputs": [],
   "source": [
    "============================================================================================="
   ]
  },
  {
   "cell_type": "code",
   "execution_count": null,
   "metadata": {},
   "outputs": [],
   "source": [
    "#KFold"
   ]
  },
  {
   "cell_type": "code",
   "execution_count": 113,
   "metadata": {},
   "outputs": [],
   "source": [
    "from sklearn.model_selection import KFold"
   ]
  },
  {
   "cell_type": "code",
   "execution_count": 114,
   "metadata": {},
   "outputs": [
    {
     "data": {
      "text/plain": [
       "0.0001"
      ]
     },
     "execution_count": 114,
     "metadata": {},
     "output_type": "execute_result"
    }
   ],
   "source": [
    "alphas=[0.0001,0.0002,0.0005,0.001,0.005,0.01,0.05, 0.1,0.5, 1, 10, 100,500,1000]\n",
    "\n",
    "auc_10cv =[]\n",
    "for a in alphas:\n",
    "    logr=LogisticRegression(C=a,penalty=\"l2\",class_weight=\"balanced\",random_state=2, max_iter=100)\n",
    "    kf = KFold( n_splits=10)\n",
    "    auc_for_one_alpha = []\n",
    "    for train_idx, test_idx in kf.split(x):\n",
    "        kfold_train_x = x.loc[train_idx]\n",
    "        kfold_train_y = y.loc[train_idx]\n",
    "        \n",
    "        kfold_test_x = x.loc[test_idx]\n",
    "        kfold_test_y = y.loc[test_idx]\n",
    "\n",
    "        logr.fit(kfold_train_x, kfold_train_y)\n",
    "\n",
    "        auc_score_held_out_fold = roc_auc_score(kfold_test_y, logr.predict(kfold_test_x))\n",
    "        auc_for_one_alpha.append(auc_score_held_out_fold)\n",
    "\n",
    "    auc_10cv.append(np.mean(auc_for_one_alpha))\n",
    "best_alpha = alphas[np.argmax(np.array(auc_10cv))]\n",
    "best_alpha"
   ]
  },
  {
   "cell_type": "code",
   "execution_count": 115,
   "metadata": {},
   "outputs": [],
   "source": [
    "logr_KFold=LogisticRegression(C=best_alpha,penalty=\"l2\",class_weight=\"balanced\",random_state=2)"
   ]
  },
  {
   "cell_type": "code",
   "execution_count": 116,
   "metadata": {},
   "outputs": [
    {
     "data": {
      "text/plain": [
       "LogisticRegression(C=0.0001, class_weight='balanced', dual=False,\n",
       "                   fit_intercept=True, intercept_scaling=1, l1_ratio=None,\n",
       "                   max_iter=100, multi_class='auto', n_jobs=None, penalty='l2',\n",
       "                   random_state=2, solver='lbfgs', tol=0.0001, verbose=0,\n",
       "                   warm_start=False)"
      ]
     },
     "execution_count": 116,
     "metadata": {},
     "output_type": "execute_result"
    }
   ],
   "source": [
    "logr_KFold.fit(x_train1,y_train1)"
   ]
  },
  {
   "cell_type": "code",
   "execution_count": 117,
   "metadata": {},
   "outputs": [],
   "source": [
    "test_score_KFold=logr_KFold.predict_proba(x_train2)[:,1]"
   ]
  },
  {
   "cell_type": "code",
   "execution_count": 118,
   "metadata": {},
   "outputs": [
    {
     "data": {
      "text/plain": [
       "0.5287059355830243"
      ]
     },
     "execution_count": 118,
     "metadata": {},
     "output_type": "execute_result"
    }
   ],
   "source": [
    "roc_auc_score(y_train2,test_score_KFold)"
   ]
  },
  {
   "cell_type": "code",
   "execution_count": null,
   "metadata": {},
   "outputs": [],
   "source": [
    "==========================================================================================="
   ]
  },
  {
   "cell_type": "code",
   "execution_count": null,
   "metadata": {},
   "outputs": [],
   "source": [
    "#Decision tree"
   ]
  },
  {
   "cell_type": "code",
   "execution_count": 119,
   "metadata": {},
   "outputs": [],
   "source": [
    "from sklearn import tree\n",
    "from sklearn.model_selection import RandomizedSearchCV\n",
    "%matplotlib inline"
   ]
  },
  {
   "cell_type": "code",
   "execution_count": 120,
   "metadata": {},
   "outputs": [],
   "source": [
    "from sklearn.tree import DecisionTreeClassifier"
   ]
  },
  {
   "cell_type": "code",
   "execution_count": 121,
   "metadata": {},
   "outputs": [],
   "source": [
    "params={ 'class_weight':[None,'balanced'], \n",
    "        'criterion':['entropy','gini'],\n",
    "        'max_depth':[None,5,10,15,20,30,50,70],\n",
    "            'min_samples_leaf':[1,2,5,10,15,20], \n",
    "            'min_samples_split':[2,5,10,15,20]\n",
    "       }"
   ]
  },
  {
   "cell_type": "code",
   "execution_count": 122,
   "metadata": {},
   "outputs": [],
   "source": [
    "clf_dt=DecisionTreeClassifier()"
   ]
  },
  {
   "cell_type": "code",
   "execution_count": 123,
   "metadata": {},
   "outputs": [],
   "source": [
    "random_search=RandomizedSearchCV(clf_dt,cv=10,\n",
    "                                 param_distributions=params,\n",
    "                                 scoring='roc_auc',\n",
    "                                 n_iter=10\n",
    "                                    )"
   ]
  },
  {
   "cell_type": "code",
   "execution_count": 124,
   "metadata": {},
   "outputs": [
    {
     "data": {
      "text/plain": [
       "RandomizedSearchCV(cv=10, error_score=nan,\n",
       "                   estimator=DecisionTreeClassifier(ccp_alpha=0.0,\n",
       "                                                    class_weight=None,\n",
       "                                                    criterion='gini',\n",
       "                                                    max_depth=None,\n",
       "                                                    max_features=None,\n",
       "                                                    max_leaf_nodes=None,\n",
       "                                                    min_impurity_decrease=0.0,\n",
       "                                                    min_impurity_split=None,\n",
       "                                                    min_samples_leaf=1,\n",
       "                                                    min_samples_split=2,\n",
       "                                                    min_weight_fraction_leaf=0.0,\n",
       "                                                    presort='deprecated',\n",
       "                                                    random_state=None,\n",
       "                                                    splitter='best'),\n",
       "                   iid='deprecated', n_iter=10, n_jobs=None,\n",
       "                   param_distributions={'class_weight': [None, 'balanced'],\n",
       "                                        'criterion': ['entropy', 'gini'],\n",
       "                                        'max_depth': [None, 5, 10, 15, 20, 30,\n",
       "                                                      50, 70],\n",
       "                                        'min_samples_leaf': [1, 2, 5, 10, 15,\n",
       "                                                             20],\n",
       "                                        'min_samples_split': [2, 5, 10, 15,\n",
       "                                                              20]},\n",
       "                   pre_dispatch='2*n_jobs', random_state=None, refit=True,\n",
       "                   return_train_score=False, scoring='roc_auc', verbose=0)"
      ]
     },
     "execution_count": 124,
     "metadata": {},
     "output_type": "execute_result"
    }
   ],
   "source": [
    "random_search.fit(x,y)"
   ]
  },
  {
   "cell_type": "code",
   "execution_count": 125,
   "metadata": {},
   "outputs": [
    {
     "data": {
      "text/plain": [
       "{'mean_fit_time': array([43.54669998,  5.62441862,  6.23923187, 34.35096023, 11.42767706,\n",
       "        18.76213877, 15.4892694 , 20.51095994, 17.08413546,  9.74099782]),\n",
       " 'std_fit_time': array([2.62210272, 0.22009256, 0.15602784, 2.02989751, 0.55133505,\n",
       "        0.45993825, 0.21570623, 1.92157247, 0.10662923, 0.10651358]),\n",
       " 'mean_score_time': array([0.1037801 , 0.07923324, 0.07610636, 0.09794774, 0.08942225,\n",
       "        0.08194597, 0.12331834, 0.084255  , 0.08190417, 0.07644684]),\n",
       " 'std_score_time': array([0.01163691, 0.01130412, 0.00536499, 0.01138288, 0.02313099,\n",
       "        0.0050015 , 0.1183767 , 0.0070482 , 0.00523953, 0.00549918]),\n",
       " 'param_min_samples_split': masked_array(data=[10, 20, 15, 20, 15, 5, 5, 2, 20, 15],\n",
       "              mask=[False, False, False, False, False, False, False, False,\n",
       "                    False, False],\n",
       "        fill_value='?',\n",
       "             dtype=object),\n",
       " 'param_min_samples_leaf': masked_array(data=[2, 5, 1, 1, 5, 20, 20, 2, 2, 5],\n",
       "              mask=[False, False, False, False, False, False, False, False,\n",
       "                    False, False],\n",
       "        fill_value='?',\n",
       "             dtype=object),\n",
       " 'param_max_depth': masked_array(data=[None, 5, 5, 70, 10, 20, 15, 20, 20, 10],\n",
       "              mask=[False, False, False, False, False, False, False, False,\n",
       "                    False, False],\n",
       "        fill_value='?',\n",
       "             dtype=object),\n",
       " 'param_criterion': masked_array(data=['entropy', 'gini', 'entropy', 'gini', 'entropy',\n",
       "                    'entropy', 'entropy', 'entropy', 'gini', 'gini'],\n",
       "              mask=[False, False, False, False, False, False, False, False,\n",
       "                    False, False],\n",
       "        fill_value='?',\n",
       "             dtype=object),\n",
       " 'param_class_weight': masked_array(data=['balanced', None, 'balanced', None, 'balanced', None,\n",
       "                    'balanced', 'balanced', None, 'balanced'],\n",
       "              mask=[False, False, False, False, False, False, False, False,\n",
       "                    False, False],\n",
       "        fill_value='?',\n",
       "             dtype=object),\n",
       " 'params': [{'min_samples_split': 10,\n",
       "   'min_samples_leaf': 2,\n",
       "   'max_depth': None,\n",
       "   'criterion': 'entropy',\n",
       "   'class_weight': 'balanced'},\n",
       "  {'min_samples_split': 20,\n",
       "   'min_samples_leaf': 5,\n",
       "   'max_depth': 5,\n",
       "   'criterion': 'gini',\n",
       "   'class_weight': None},\n",
       "  {'min_samples_split': 15,\n",
       "   'min_samples_leaf': 1,\n",
       "   'max_depth': 5,\n",
       "   'criterion': 'entropy',\n",
       "   'class_weight': 'balanced'},\n",
       "  {'min_samples_split': 20,\n",
       "   'min_samples_leaf': 1,\n",
       "   'max_depth': 70,\n",
       "   'criterion': 'gini',\n",
       "   'class_weight': None},\n",
       "  {'min_samples_split': 15,\n",
       "   'min_samples_leaf': 5,\n",
       "   'max_depth': 10,\n",
       "   'criterion': 'entropy',\n",
       "   'class_weight': 'balanced'},\n",
       "  {'min_samples_split': 5,\n",
       "   'min_samples_leaf': 20,\n",
       "   'max_depth': 20,\n",
       "   'criterion': 'entropy',\n",
       "   'class_weight': None},\n",
       "  {'min_samples_split': 5,\n",
       "   'min_samples_leaf': 20,\n",
       "   'max_depth': 15,\n",
       "   'criterion': 'entropy',\n",
       "   'class_weight': 'balanced'},\n",
       "  {'min_samples_split': 2,\n",
       "   'min_samples_leaf': 2,\n",
       "   'max_depth': 20,\n",
       "   'criterion': 'entropy',\n",
       "   'class_weight': 'balanced'},\n",
       "  {'min_samples_split': 20,\n",
       "   'min_samples_leaf': 2,\n",
       "   'max_depth': 20,\n",
       "   'criterion': 'gini',\n",
       "   'class_weight': None},\n",
       "  {'min_samples_split': 15,\n",
       "   'min_samples_leaf': 5,\n",
       "   'max_depth': 10,\n",
       "   'criterion': 'gini',\n",
       "   'class_weight': 'balanced'}],\n",
       " 'split0_test_score': array([0.55408792, 0.60511649, 0.60494499, 0.55956418, 0.61842518,\n",
       "        0.60793437, 0.6143049 , 0.6073144 , 0.60352893, 0.61823215]),\n",
       " 'split1_test_score': array([0.5549868 , 0.6061981 , 0.60610205, 0.56527818, 0.6194476 ,\n",
       "        0.61474103, 0.62015194, 0.60839417, 0.60793625, 0.61944229]),\n",
       " 'split2_test_score': array([0.55597973, 0.60732738, 0.60679843, 0.55916876, 0.61782528,\n",
       "        0.60961576, 0.6192303 , 0.60542041, 0.60380828, 0.61847734]),\n",
       " 'split3_test_score': array([0.55706759, 0.60495155, 0.60474964, 0.56468329, 0.61360853,\n",
       "        0.60778589, 0.61376683, 0.60384596, 0.60207434, 0.61345885]),\n",
       " 'split4_test_score': array([0.55594299, 0.60226535, 0.60115221, 0.56732568, 0.61150851,\n",
       "        0.60905585, 0.60996867, 0.60127982, 0.60082215, 0.61164709]),\n",
       " 'split5_test_score': array([0.55615612, 0.60618312, 0.60579089, 0.56075618, 0.61613141,\n",
       "        0.60745306, 0.61472235, 0.60599851, 0.60461465, 0.61742958]),\n",
       " 'split6_test_score': array([0.55674591, 0.61171866, 0.61112784, 0.56137794, 0.62358047,\n",
       "        0.61364931, 0.62000062, 0.61057164, 0.60743665, 0.62247877]),\n",
       " 'split7_test_score': array([0.55729215, 0.60103173, 0.60101232, 0.55869492, 0.61263607,\n",
       "        0.60618294, 0.60962193, 0.60310986, 0.60239592, 0.61170727]),\n",
       " 'split8_test_score': array([0.55979976, 0.60742682, 0.60716756, 0.56577403, 0.62060389,\n",
       "        0.61323189, 0.62101224, 0.6085941 , 0.60618305, 0.62038828]),\n",
       " 'split9_test_score': array([0.55871346, 0.6077538 , 0.60761771, 0.5683066 , 0.6201665 ,\n",
       "        0.61014773, 0.61393523, 0.60746737, 0.60731162, 0.61915293]),\n",
       " 'mean_test_score': array([0.55667724, 0.6059973 , 0.60564636, 0.56309298, 0.61739334,\n",
       "        0.60997978, 0.6156715 , 0.60619963, 0.60461118, 0.61724145]),\n",
       " 'std_test_score': array([0.00159031, 0.00283126, 0.00284201, 0.00339391, 0.00367328,\n",
       "        0.00278429, 0.00398164, 0.0026917 , 0.00237314, 0.00352996]),\n",
       " 'rank_test_score': array([10,  6,  7,  9,  1,  4,  3,  5,  8,  2])}"
      ]
     },
     "execution_count": 125,
     "metadata": {},
     "output_type": "execute_result"
    }
   ],
   "source": [
    "random_search.cv_results_"
   ]
  },
  {
   "cell_type": "code",
   "execution_count": 126,
   "metadata": {},
   "outputs": [
    {
     "data": {
      "text/plain": [
       "DecisionTreeClassifier(ccp_alpha=0.0, class_weight='balanced',\n",
       "                       criterion='entropy', max_depth=10, max_features=None,\n",
       "                       max_leaf_nodes=None, min_impurity_decrease=0.0,\n",
       "                       min_impurity_split=None, min_samples_leaf=5,\n",
       "                       min_samples_split=15, min_weight_fraction_leaf=0.0,\n",
       "                       presort='deprecated', random_state=None,\n",
       "                       splitter='best')"
      ]
     },
     "execution_count": 126,
     "metadata": {},
     "output_type": "execute_result"
    }
   ],
   "source": [
    "random_search.best_estimator_"
   ]
  },
  {
   "cell_type": "code",
   "execution_count": 127,
   "metadata": {},
   "outputs": [
    {
     "name": "stdout",
     "output_type": "stream",
     "text": [
      "Model with rank: 1\n",
      "Mean validation score: 0.6173933438 (std: 0.00367)\n",
      "Parameters: {'min_samples_split': 15, 'min_samples_leaf': 5, 'max_depth': 10, 'criterion': 'entropy', 'class_weight': 'balanced'}\n",
      "\n",
      "Model with rank: 2\n",
      "Mean validation score: 0.6172414545 (std: 0.00353)\n",
      "Parameters: {'min_samples_split': 15, 'min_samples_leaf': 5, 'max_depth': 10, 'criterion': 'gini', 'class_weight': 'balanced'}\n",
      "\n",
      "Model with rank: 3\n",
      "Mean validation score: 0.6156714996 (std: 0.00398)\n",
      "Parameters: {'min_samples_split': 5, 'min_samples_leaf': 20, 'max_depth': 15, 'criterion': 'entropy', 'class_weight': 'balanced'}\n",
      "\n",
      "Model with rank: 4\n",
      "Mean validation score: 0.6099797819 (std: 0.00278)\n",
      "Parameters: {'min_samples_split': 5, 'min_samples_leaf': 20, 'max_depth': 20, 'criterion': 'entropy', 'class_weight': None}\n",
      "\n",
      "Model with rank: 5\n",
      "Mean validation score: 0.6061996252 (std: 0.00269)\n",
      "Parameters: {'min_samples_split': 2, 'min_samples_leaf': 2, 'max_depth': 20, 'criterion': 'entropy', 'class_weight': 'balanced'}\n",
      "\n"
     ]
    }
   ],
   "source": [
    "report(random_search.cv_results_,5)"
   ]
  },
  {
   "cell_type": "code",
   "execution_count": 128,
   "metadata": {},
   "outputs": [],
   "source": [
    "dtree=random_search.best_estimator_"
   ]
  },
  {
   "cell_type": "code",
   "execution_count": 129,
   "metadata": {},
   "outputs": [
    {
     "data": {
      "text/plain": [
       "DecisionTreeClassifier(ccp_alpha=0.0, class_weight='balanced',\n",
       "                       criterion='entropy', max_depth=10, max_features=None,\n",
       "                       max_leaf_nodes=None, min_impurity_decrease=0.0,\n",
       "                       min_impurity_split=None, min_samples_leaf=5,\n",
       "                       min_samples_split=15, min_weight_fraction_leaf=0.0,\n",
       "                       presort='deprecated', random_state=None,\n",
       "                       splitter='best')"
      ]
     },
     "execution_count": 129,
     "metadata": {},
     "output_type": "execute_result"
    }
   ],
   "source": [
    "dtree.fit(x,y)"
   ]
  },
  {
   "cell_type": "code",
   "execution_count": 130,
   "metadata": {},
   "outputs": [],
   "source": [
    "test_score_dt=dtree.predict_proba(x_train2)[:,1]"
   ]
  },
  {
   "cell_type": "code",
   "execution_count": 131,
   "metadata": {},
   "outputs": [
    {
     "data": {
      "text/plain": [
       "0.6293365527699974"
      ]
     },
     "execution_count": 131,
     "metadata": {},
     "output_type": "execute_result"
    }
   ],
   "source": [
    "roc_auc_score(y_train2,test_score_dt)"
   ]
  },
  {
   "cell_type": "code",
   "execution_count": 135,
   "metadata": {},
   "outputs": [],
   "source": [
    "#clf_dt.fit(x,y)"
   ]
  },
  {
   "cell_type": "code",
   "execution_count": 136,
   "metadata": {},
   "outputs": [],
   "source": [
    "prediction_dtree=np.where(dtree.predict(cd_test.drop(['Complaint ID'],1))==1,\"Yes\",\"No\")"
   ]
  },
  {
   "cell_type": "code",
   "execution_count": 137,
   "metadata": {},
   "outputs": [],
   "source": [
    "submission_dt=pd.DataFrame(list(zip(cd_test['Complaint ID'],list(prediction_dtree))),\n",
    "                       columns=['Complaint ID','Consumer disputed?'])"
   ]
  },
  {
   "cell_type": "code",
   "execution_count": 89,
   "metadata": {},
   "outputs": [
    {
     "data": {
      "text/plain": [
       "'C:\\\\Users\\\\61414\\\\Documents\\\\ML\\\\Project1'"
      ]
     },
     "execution_count": 89,
     "metadata": {},
     "output_type": "execute_result"
    }
   ],
   "source": [
    "import os\n",
    "os.getcwd()"
   ]
  },
  {
   "cell_type": "code",
   "execution_count": 102,
   "metadata": {},
   "outputs": [
    {
     "data": {
      "text/html": [
       "<div>\n",
       "<style scoped>\n",
       "    .dataframe tbody tr th:only-of-type {\n",
       "        vertical-align: middle;\n",
       "    }\n",
       "\n",
       "    .dataframe tbody tr th {\n",
       "        vertical-align: top;\n",
       "    }\n",
       "\n",
       "    .dataframe thead th {\n",
       "        text-align: right;\n",
       "    }\n",
       "</style>\n",
       "<table border=\"1\" class=\"dataframe\">\n",
       "  <thead>\n",
       "    <tr style=\"text-align: right;\">\n",
       "      <th></th>\n",
       "      <th>Complaint ID</th>\n",
       "      <th>Consumer disputed?</th>\n",
       "    </tr>\n",
       "  </thead>\n",
       "  <tbody>\n",
       "    <tr>\n",
       "      <th>0</th>\n",
       "      <td>675956</td>\n",
       "      <td>No</td>\n",
       "    </tr>\n",
       "    <tr>\n",
       "      <th>1</th>\n",
       "      <td>1858795</td>\n",
       "      <td>No</td>\n",
       "    </tr>\n",
       "    <tr>\n",
       "      <th>2</th>\n",
       "      <td>32637</td>\n",
       "      <td>No</td>\n",
       "    </tr>\n",
       "    <tr>\n",
       "      <th>3</th>\n",
       "      <td>1731374</td>\n",
       "      <td>No</td>\n",
       "    </tr>\n",
       "    <tr>\n",
       "      <th>4</th>\n",
       "      <td>501487</td>\n",
       "      <td>No</td>\n",
       "    </tr>\n",
       "    <tr>\n",
       "      <th>...</th>\n",
       "      <td>...</td>\n",
       "      <td>...</td>\n",
       "    </tr>\n",
       "    <tr>\n",
       "      <th>119601</th>\n",
       "      <td>153482</td>\n",
       "      <td>No</td>\n",
       "    </tr>\n",
       "    <tr>\n",
       "      <th>119602</th>\n",
       "      <td>2023523</td>\n",
       "      <td>No</td>\n",
       "    </tr>\n",
       "    <tr>\n",
       "      <th>119603</th>\n",
       "      <td>1413678</td>\n",
       "      <td>No</td>\n",
       "    </tr>\n",
       "    <tr>\n",
       "      <th>119604</th>\n",
       "      <td>732458</td>\n",
       "      <td>No</td>\n",
       "    </tr>\n",
       "    <tr>\n",
       "      <th>119605</th>\n",
       "      <td>1235226</td>\n",
       "      <td>No</td>\n",
       "    </tr>\n",
       "  </tbody>\n",
       "</table>\n",
       "<p>119606 rows × 2 columns</p>\n",
       "</div>"
      ],
      "text/plain": [
       "        Complaint ID Consumer disputed?\n",
       "0             675956                 No\n",
       "1            1858795                 No\n",
       "2              32637                 No\n",
       "3            1731374                 No\n",
       "4             501487                 No\n",
       "...              ...                ...\n",
       "119601        153482                 No\n",
       "119602       2023523                 No\n",
       "119603       1413678                 No\n",
       "119604        732458                 No\n",
       "119605       1235226                 No\n",
       "\n",
       "[119606 rows x 2 columns]"
      ]
     },
     "execution_count": 102,
     "metadata": {},
     "output_type": "execute_result"
    }
   ],
   "source": [
    "submission_dt"
   ]
  },
  {
   "cell_type": "code",
   "execution_count": 134,
   "metadata": {},
   "outputs": [],
   "source": [
    "submission_dt.to_csv('sample_submission_run4.csv',index=False)"
   ]
  },
  {
   "cell_type": "code",
   "execution_count": 104,
   "metadata": {},
   "outputs": [],
   "source": [
    "test_score_dt=dtree.predict_proba(x)[:,1]"
   ]
  },
  {
   "cell_type": "code",
   "execution_count": 105,
   "metadata": {},
   "outputs": [
    {
     "data": {
      "text/plain": [
       "0.6285781165701678"
      ]
     },
     "execution_count": 105,
     "metadata": {},
     "output_type": "execute_result"
    }
   ],
   "source": [
    "roc_auc_score(y,test_score_dt)"
   ]
  },
  {
   "cell_type": "code",
   "execution_count": null,
   "metadata": {},
   "outputs": [],
   "source": []
  },
  {
   "cell_type": "code",
   "execution_count": null,
   "metadata": {},
   "outputs": [],
   "source": [
    "=============================================================================="
   ]
  },
  {
   "cell_type": "code",
   "execution_count": null,
   "metadata": {},
   "outputs": [],
   "source": []
  },
  {
   "cell_type": "code",
   "execution_count": null,
   "metadata": {},
   "outputs": [],
   "source": []
  },
  {
   "cell_type": "code",
   "execution_count": null,
   "metadata": {},
   "outputs": [],
   "source": []
  }
 ],
 "metadata": {
  "kernelspec": {
   "display_name": "Python 3",
   "language": "python",
   "name": "python3"
  },
  "language_info": {
   "codemirror_mode": {
    "name": "ipython",
    "version": 3
   },
   "file_extension": ".py",
   "mimetype": "text/x-python",
   "name": "python",
   "nbconvert_exporter": "python",
   "pygments_lexer": "ipython3",
   "version": "3.7.6"
  }
 },
 "nbformat": 4,
 "nbformat_minor": 4
}
